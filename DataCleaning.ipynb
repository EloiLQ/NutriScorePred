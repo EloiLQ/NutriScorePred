{
 "cells": [
  {
   "cell_type": "markdown",
   "metadata": {},
   "source": [
    "# Nettoyage des données d'Open Food Fact\n",
    "\n",
    "### Chargement des données\n",
    "\n",
    "Le jeux de données d'Open Food Fact est composé de presque **1,5 millions produits alimentaires**. C'est beaucoup plus qu'il n'en faut pour développer notre modèle de prédiction du Nutri-Score. Pour garder des temps de calcul raisonnables sans trop perdre en généralité, on va se limiter à une seule catégorie de produit. \n",
    "\n",
    "_note technique_ : une petite manipulation est nécessaire ici pour ne pas prendre en compte les colonnes/caractères dont les données contiennent plusieurs types (exp. à la fois nombre et des mots), et qui peuvent potentiellement ralentir les performances de calcul. Comme ces caractères ne vont pas nous intéresser dans cette analyse, on va simplement ne pas les retenir par la suite."
   ]
  },
  {
   "cell_type": "code",
   "execution_count": 1,
   "metadata": {},
   "outputs": [],
   "source": [
    "## Les données sont analysées grâce aux outils de Pandas\n",
    "import pandas as pd"
   ]
  },
  {
   "cell_type": "code",
   "execution_count": 2,
   "metadata": {},
   "outputs": [
    {
     "name": "stdout",
     "output_type": "stream",
     "text": [
      "Nb total de produits alimentaires : 1486047\n",
      "Nb total d'indicateurs produit  : 182\n"
     ]
    }
   ],
   "source": [
    "## nombre de caractères/colonnes du jeu de données\n",
    "ncols = len(list(pd.read_csv('dataset/en.openfoodfacts.org.products.csv',sep='\\t', nrows =1)))\n",
    "## colonnes au type non constant\n",
    "mixedTypeCol = [0,12,18,19,20,21,25,26,27,29,50,62,171]\n",
    "\n",
    "## tableau de données sans les colonnes au type non constant\n",
    "df = pd.read_csv('dataset/en.openfoodfacts.org.products.csv', sep='\\t',\n",
    "                  usecols =[i for i in range(ncols) if i not in mixedTypeCol])\n",
    "\n",
    "print('Nb total de produits alimentaires : ' + str(df.shape[0]))\n",
    "print('Nb total d\\'indicateurs produit  : ' + str(ncols))"
   ]
  },
  {
   "cell_type": "markdown",
   "metadata": {},
   "source": [
    "_Chaque produit est décrit par un ensemble de 182 indicateurs._\n",
    "\n",
    "\n",
    "### Sélection des produits laitiers\n",
    "\n",
    "La table ci-dessous affiche les 5 premières catégories avec le plus grand nombre de produits. On choisit pour cette étude de se restreindre à la catégorie des produits laitiers (`Milk and dairy products`). Cette catégorie relativement simple présente une statistique accessible et suffisante de presque 80 mille produits.\n",
    "\n",
    "*note* : les catégories sont définies par le [Pogramme National de Nutrition Santé](https://www.mangerbouger.fr/PNNS), ou PNNS, qui propose depuis 2001 des recommandations nutritionnelles pour prévenir l’apparition de certaines maladies et promouvoir la santé publique."
   ]
  },
  {
   "cell_type": "code",
   "execution_count": 155,
   "metadata": {},
   "outputs": [
    {
     "name": "stdout",
     "output_type": "stream",
     "text": [
      "Catégorie de produit       Nb de produits\n"
     ]
    },
    {
     "data": {
      "text/plain": [
       "unknown                    880193\n",
       "Sugary snacks              126083\n",
       "Milk and dairy products     77153\n",
       "Fish Meat Eggs              72168\n",
       "Cereals and potatoes        69403\n",
       "Name: pnns_groups_1, dtype: int64"
      ]
     },
     "execution_count": 155,
     "metadata": {},
     "output_type": "execute_result"
    }
   ],
   "source": [
    "print('Catégorie de produit       Nb de produits')\n",
    "\n",
    "df['pnns_groups_1'].value_counts().head(5) ## nombre de produits par catégorie"
   ]
  },
  {
   "cell_type": "code",
   "execution_count": 156,
   "metadata": {},
   "outputs": [],
   "source": [
    "## dataframe de produits laitiers\n",
    "dfMilk = df[df['pnns_groups_1'] == 'Milk and dairy products']"
   ]
  },
  {
   "cell_type": "markdown",
   "metadata": {},
   "source": [
    "_L'échantillon de produits laitiers contient presque 80 mille produits._\n",
    "\n",
    "### Sélection des indicateurs pretinents\n",
    "\n",
    "Pour cette étude, on aura besoin des indicateurs nutritionnels utilisés pour calculer le Nutri-Score, le Nutri-Score lui-même et les catégories de produits."
   ]
  },
  {
   "cell_type": "code",
   "execution_count": 157,
   "metadata": {},
   "outputs": [],
   "source": [
    "nutriscoreFeatures = [\n",
    "    'energy_100g',\n",
    "    'salt_100g',\n",
    "    'sugars_100g',\n",
    "    'proteins_100g',\n",
    "    'saturated-fat_100g',\n",
    "    'fruits-vegetables-nuts_100g',\n",
    "    'fiber_100g'\n",
    "]"
   ]
  },
  {
   "cell_type": "code",
   "execution_count": 158,
   "metadata": {},
   "outputs": [],
   "source": [
    "listVar = [\n",
    "    'pnns_groups_1',\n",
    "    'pnns_groups_2',\n",
    "    'nutriscore_grade',\n",
    "    'nutriscore_score',\n",
    "] + nutriscoreFeatures"
   ]
  },
  {
   "cell_type": "code",
   "execution_count": 159,
   "metadata": {},
   "outputs": [
    {
     "data": {
      "text/plain": [
       "11"
      ]
     },
     "execution_count": 159,
     "metadata": {},
     "output_type": "execute_result"
    }
   ],
   "source": [
    "dfMilkTrimmed = dfMilk[listVar]\n",
    "nbProd = len(dfMilkTrimmed)\n",
    "dfMilkTrimmed.columns.size"
   ]
  },
  {
   "cell_type": "markdown",
   "metadata": {},
   "source": [
    "\n",
    "\n",
    "_On se restreint à 11 indicateurs pour l'étude du Nutri-Score_.\n",
    "\n",
    "### Validité des données produit\n",
    "\n",
    "Les données dîtes non-valides sont dans notre cas des produits dont les valeurs nutritionnelles sont aberrantes, i.e. qui ne font pas sens.\n",
    "\n",
    "En premier lieu, on supprime les valeurs négatives et supérieures à 100 pour les teneurs d'indicateurs nutritionnels comprises entre 0 et 100 g."
   ]
  },
  {
   "cell_type": "code",
   "execution_count": 160,
   "metadata": {},
   "outputs": [
    {
     "name": "stdout",
     "output_type": "stream",
     "text": [
      "Nb de produits aux teneurs en gramme non comprises en 0 et 100g : 57\n"
     ]
    }
   ],
   "source": [
    "indexDrop1 = pd.Index([])\n",
    "for elt in nutriscoreFeatures[1:]:  ## boucle sur les indicateurs nutritionnels\n",
    "    masktmp = (dfMilkTrimmed[elt] < 0.)  | (dfMilkTrimmed[elt] > 100.)\n",
    "    indexDrop1 = indexDrop.union(masktmp[masktmp].index)\n",
    "\n",
    "dfMilkTrimmed = dfMilkTrimmed.drop(indexDrop) ## enlève du df les valeurs aberrantes\n",
    "print('Nb de produits aux teneurs en gramme non comprises en 0 et 100g : ' + str(indexDrop1.size))"
   ]
  },
  {
   "cell_type": "markdown",
   "metadata": {},
   "source": [
    "On supprime également d'éventuelles densités d'énergie aux valeurs négatives."
   ]
  },
  {
   "cell_type": "code",
   "execution_count": 161,
   "metadata": {},
   "outputs": [
    {
     "name": "stdout",
     "output_type": "stream",
     "text": [
      "Nb de produits aux densités d'énergie négatives : 0\n"
     ]
    }
   ],
   "source": [
    "masktmp = dfMilkTrimmed['energy_100g'] < 0.\n",
    "indexDrop2 = masktmp[masktmp].index\n",
    "dfMilkTrimmed = dfMilkTrimmed.drop(indexDrop2)\n",
    "print('Nb de produits aux densités d\\'énergie négatives : ' + str(len(dfMilkTrimmed[masktmp])))"
   ]
  },
  {
   "cell_type": "markdown",
   "metadata": {},
   "source": [
    "Les produits qui ont un Nutri-Score sans avoir aucune information nutritionnelle ne vont pas nous intéresser."
   ]
  },
  {
   "cell_type": "code",
   "execution_count": 162,
   "metadata": {},
   "outputs": [
    {
     "name": "stdout",
     "output_type": "stream",
     "text": [
      "Nb de produits avec un Nutri-Score mais sans indicateurs nutritionnels : 2\n"
     ]
    }
   ],
   "source": [
    "dfMilkTrimmedNS = dfMilkTrimmed[dfMilkTrimmed['nutriscore_grade'].notna()]\n",
    "indexDrop3 = dfMilkTrimmedNS[dfMilkTrimmedNS[nutriscoreFeatures].isnull().all(axis='columns')].index\n",
    "print('Nb de produits avec un Nutri-Score mais sans indicateurs nutritionnels : ' + str(indexDrop3.size))"
   ]
  },
  {
   "cell_type": "code",
   "execution_count": 163,
   "metadata": {},
   "outputs": [],
   "source": [
    "dfMilkTrimmed = dfMilkTrimmed.drop(indexDrop3)"
   ]
  },
  {
   "cell_type": "markdown",
   "metadata": {},
   "source": [
    "### Nettoyage de produits Nutri-Score mal classés\n",
    "\n",
    "Certains poduits sont mal classés : le point Nutri-Score ne correspond pas à la bonne lettre Nutri-Score. On abandonne l'étude de ces aliments par la suite."
   ]
  },
  {
   "cell_type": "code",
   "execution_count": 164,
   "metadata": {},
   "outputs": [],
   "source": [
    "## association Nutri-Score (Point <----> Lettre)\n",
    "mapping = {'a' : range(-11,  0),\n",
    "           'b' : range(  0,  3),\n",
    "           'c' : range(  3, 11),\n",
    "           'd' : range( 11, 19),\n",
    "           'e' : range( 19, 36)}"
   ]
  },
  {
   "cell_type": "code",
   "execution_count": 165,
   "metadata": {},
   "outputs": [
    {
     "name": "stdout",
     "output_type": "stream",
     "text": [
      "Nb de produits pour lesquelles lettre et point Nutri-Score ne correpondant pas : 4\n"
     ]
    }
   ],
   "source": [
    "dfMilkTrimmedNS = dfMilkTrimmed[dfMilkTrimmed['nutriscore_grade'].notna()]\n",
    "## Indentifie les produits dont la lettre Nutri-Score correspond au point NS\n",
    "masktmp = dfMilkTrimmedNS.apply(lambda x: x['nutriscore_score'] not in mapping[x['nutriscore_grade']], axis=1)\n",
    "print('Nb de produits pour lesquelles lettre et point Nutri-Score ne correpondant pas : '\n",
    "      + str(masktmp.value_counts().loc[True]))"
   ]
  },
  {
   "cell_type": "code",
   "execution_count": 166,
   "metadata": {},
   "outputs": [],
   "source": [
    "indexDrop4 = masktmp[masktmp].index\n",
    "dfMilkTrimmed = dfMilkTrimmed.drop(indexDrop4)"
   ]
  },
  {
   "cell_type": "markdown",
   "metadata": {},
   "source": [
    "### Sauvegarde du fichier nettoyé"
   ]
  },
  {
   "cell_type": "markdown",
   "metadata": {},
   "source": [
    "Au final, l'échantillon avec lequel on va travailler est composé de 77 092 produits laitiers pour 11 indicateurs."
   ]
  },
  {
   "cell_type": "code",
   "execution_count": 167,
   "metadata": {
    "scrolled": true
   },
   "outputs": [
    {
     "data": {
      "text/plain": [
       "(77090, 11)"
      ]
     },
     "execution_count": 167,
     "metadata": {},
     "output_type": "execute_result"
    }
   ],
   "source": [
    "dfMilkTrimmed.shape"
   ]
  },
  {
   "cell_type": "markdown",
   "metadata": {},
   "source": [
    "On sauvegarde le tableau de données dans un fichier .csv."
   ]
  },
  {
   "cell_type": "code",
   "execution_count": 168,
   "metadata": {},
   "outputs": [],
   "source": [
    "dfMilkTrimmed.to_csv('dataset/en.openfoodfacts.org.dairy-products.csv', index=False)"
   ]
  }
 ],
 "metadata": {
  "kernelspec": {
   "display_name": "Python 3",
   "language": "python",
   "name": "python3"
  },
  "language_info": {
   "codemirror_mode": {
    "name": "ipython",
    "version": 3
   },
   "file_extension": ".py",
   "mimetype": "text/x-python",
   "name": "python",
   "nbconvert_exporter": "python",
   "pygments_lexer": "ipython3",
   "version": "3.8.3"
  }
 },
 "nbformat": 4,
 "nbformat_minor": 4
}
